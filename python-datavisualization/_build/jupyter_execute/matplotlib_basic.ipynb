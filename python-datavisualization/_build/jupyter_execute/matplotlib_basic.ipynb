{
 "cells": [
  {
   "cell_type": "markdown",
   "metadata": {},
   "source": [
    "# Matplotlib（基礎編）\n",
    "\n",
    "[![Open In Colab](https://colab.research.google.com/assets/colab-badge.svg)](https://colab.research.google.com/github/kentakom1213/practice-datavisualization/blob/main/matplotlib_basic.ipynb)\n",
    "\n",
    "まずは、[Chainerチュートリアル](https://tutorials.chainer.org/ja/12_Introduction_to_Matplotlib.html)通りプロット。\n",
    "簡単なグラフはこれで十分です。\n",
    "\n",
    "ここでは、numpyでデータを作成しつつプロットを行います。"
   ]
  },
  {
   "cell_type": "code",
   "execution_count": 1,
   "metadata": {},
   "outputs": [],
   "source": [
    "import numpy as np\n",
    "import matplotlib.pyplot as plt"
   ]
  },
  {
   "cell_type": "markdown",
   "metadata": {},
   "source": [
    "## numpyの使い方\n",
    "\n",
    "**一定区間に等間隔で散らばった点を生成**\n",
    "\n",
    "`np.arange(開始, 終了, 間隔)`"
   ]
  },
  {
   "cell_type": "code",
   "execution_count": 2,
   "metadata": {},
   "outputs": [
    {
     "data": {
      "text/plain": [
       "array([-1.00000000e+00, -9.00000000e-01, -8.00000000e-01, -7.00000000e-01,\n",
       "       -6.00000000e-01, -5.00000000e-01, -4.00000000e-01, -3.00000000e-01,\n",
       "       -2.00000000e-01, -1.00000000e-01, -2.22044605e-16,  1.00000000e-01,\n",
       "        2.00000000e-01,  3.00000000e-01,  4.00000000e-01,  5.00000000e-01,\n",
       "        6.00000000e-01,  7.00000000e-01,  8.00000000e-01,  9.00000000e-01])"
      ]
     },
     "execution_count": 2,
     "metadata": {},
     "output_type": "execute_result"
    }
   ],
   "source": [
    "x = np.arange(-1, 1, 0.1)  # -1から1まで、0.1刻みで点を生成する\n",
    "\n",
    "x"
   ]
  },
  {
   "cell_type": "markdown",
   "metadata": {},
   "source": [
    "**関数にわたす**\n",
    "\n",
    "`np.array`を関数に渡すと、その要素全てに同じ操作が加えられます。\n",
    "\n",
    "例）\n",
    "```python\n",
    "np.array([1, 2, 3]) ** 2\n",
    "\n",
    "# array([1, 4, 9])\n",
    "```\n",
    "\n",
    "その他、`numpy`で定義されている関数\n",
    "\n",
    "- `sin`\n",
    "- `cos`\n",
    "- `tan`\n",
    "- `log`\n",
    "- `exp`\n",
    "\n",
    "も使えます。"
   ]
  },
  {
   "cell_type": "code",
   "execution_count": 3,
   "metadata": {},
   "outputs": [
    {
     "data": {
      "text/plain": [
       "array([-8.41470985e-01, -7.83326910e-01, -7.17356091e-01, -6.44217687e-01,\n",
       "       -5.64642473e-01, -4.79425539e-01, -3.89418342e-01, -2.95520207e-01,\n",
       "       -1.98669331e-01, -9.98334166e-02, -2.22044605e-16,  9.98334166e-02,\n",
       "        1.98669331e-01,  2.95520207e-01,  3.89418342e-01,  4.79425539e-01,\n",
       "        5.64642473e-01,  6.44217687e-01,  7.17356091e-01,  7.83326910e-01])"
      ]
     },
     "execution_count": 3,
     "metadata": {},
     "output_type": "execute_result"
    }
   ],
   "source": [
    "y = np.sin(x)  # 生成した点をsin関数に渡す\n",
    "\n",
    "y"
   ]
  },
  {
   "cell_type": "markdown",
   "metadata": {},
   "source": [
    "## 散布図\n",
    "\n",
    "`plt.scatter(xの配列, yの配列)`\n",
    "\n",
    "平面状に点を打ちます。\n"
   ]
  },
  {
   "cell_type": "code",
   "execution_count": 4,
   "metadata": {},
   "outputs": [
    {
     "data": {
      "text/plain": [
       "<matplotlib.collections.PathCollection at 0x11bc2fe50>"
      ]
     },
     "execution_count": 4,
     "metadata": {},
     "output_type": "execute_result"
    },
    {
     "data": {
      "image/png": "[encoded data removed]",
      "text/plain": [
       "<Figure size 432x288 with 1 Axes>"
      ]
     },
     "metadata": {
      "filenames": {
       "image/png": "/Users/komotokenta/Docker/practice-datavisualization/python-datavisualization/_build/jupyter_execute/matplotlib_basic_7_1.png"
      },
      "needs_background": "light"
     },
     "output_type": "display_data"
    }
   ],
   "source": [
    "x = np.arange(-1, 1, 0.1)\n",
    "y = x ** 2\n",
    "\n",
    "plt.scatter(x, y)"
   ]
  },
  {
   "cell_type": "markdown",
   "metadata": {},
   "source": [
    "## 折れ線グラフ\n",
    "\n",
    "`plt.plot(xの配列, yの配列)`\n",
    "\n",
    "散布図と異なり、隣り合った点をつなげます。"
   ]
  },
  {
   "cell_type": "code",
   "execution_count": 5,
   "metadata": {},
   "outputs": [
    {
     "data": {
      "text/plain": [
       "[<matplotlib.lines.Line2D at 0x11bd6ead0>]"
      ]
     },
     "execution_count": 5,
     "metadata": {},
     "output_type": "execute_result"
    },
    {
     "data": {
      "image/png": "[encoded data removed]",
      "text/plain": [
       "<Figure size 432x288 with 1 Axes>"
      ]
     },
     "metadata": {
      "filenames": {
       "image/png": "/Users/komotokenta/Docker/practice-datavisualization/python-datavisualization/_build/jupyter_execute/matplotlib_basic_9_1.png"
      },
      "needs_background": "light"
     },
     "output_type": "display_data"
    }
   ],
   "source": [
    "x = np.arange(-3, 3, 0.5)\n",
    "y = np.sin(x)\n",
    "\n",
    "plt.plot(x, y)"
   ]
  },
  {
   "cell_type": "markdown",
   "metadata": {},
   "source": [
    "## ヒストグラム\n",
    "\n",
    "**データの生成**\n",
    "\n",
    "$1〜6$ までの数字をランダムに $1000$ 回選んで平均を求めます。  \n",
    "これを $1000$ 回繰り返して、どんな分布になっているかをみてみます。"
   ]
  },
  {
   "cell_type": "code",
   "execution_count": 6,
   "metadata": {},
   "outputs": [
    {
     "name": "stdout",
     "output_type": "stream",
     "text": [
      "[3.524, 3.541, 3.503, 3.476, 3.467, 3.574, 3.48, 3.442, 3.403, 3.395]\n"
     ]
    }
   ],
   "source": [
    "from random import randint\n",
    "\n",
    "data = []\n",
    "\n",
    "for i in range(1000):\n",
    "\n",
    "    # 1~6までの数字をランダムに選んで足す x 1000回\n",
    "    sum_of_dice = 0\n",
    "    for j in range(1000):\n",
    "        sum_of_dice += randint(1, 6)\n",
    "    \n",
    "    ave_of_dice = sum_of_dice / 1000  # 1000で割って平均を出す\n",
    "    data.append(ave_of_dice)\n",
    "\n",
    "\n",
    "print(data[:10])  # 10個目までを見る"
   ]
  },
  {
   "cell_type": "markdown",
   "metadata": {},
   "source": [
    "**ヒストグラムを作成**\n",
    "\n",
    "`plt.hist(データ)`\n",
    "\n",
    "自動的に階級の幅を決めてプロットしてくれます。\n",
    "この場合は $10$ 個の階級に分けられていました。"
   ]
  },
  {
   "cell_type": "code",
   "execution_count": 7,
   "metadata": {},
   "outputs": [
    {
     "data": {
      "text/plain": [
       "(array([  4.,  40.,  91., 169., 228., 249., 142.,  52.,  20.,   5.]),\n",
       " array([3.336 , 3.3701, 3.4042, 3.4383, 3.4724, 3.5065, 3.5406, 3.5747,\n",
       "        3.6088, 3.6429, 3.677 ]),\n",
       " <BarContainer object of 10 artists>)"
      ]
     },
     "execution_count": 7,
     "metadata": {},
     "output_type": "execute_result"
    },
    {
     "data": {
      "image/png": "[encoded data removed]",
      "text/plain": [
       "<Figure size 432x288 with 1 Axes>"
      ]
     },
     "metadata": {
      "filenames": {
       "image/png": "/Users/komotokenta/Docker/practice-datavisualization/python-datavisualization/_build/jupyter_execute/matplotlib_basic_13_1.png"
      },
      "needs_background": "light"
     },
     "output_type": "display_data"
    }
   ],
   "source": [
    "plt.hist(data)"
   ]
  },
  {
   "cell_type": "markdown",
   "metadata": {},
   "source": [
    "### パラメータの調整\n",
    "\n",
    "`hist`関数にオプションで `bins=100` を渡すと、階級を $100$ 個に分けることができます。"
   ]
  },
  {
   "cell_type": "code",
   "execution_count": 8,
   "metadata": {},
   "outputs": [
    {
     "data": {
      "text/plain": [
       "(array([ 1.,  0.,  1.,  0.,  0.,  0.,  1.,  0.,  1.,  0.,  1.,  3.,  1.,\n",
       "         4.,  2.,  2.,  5.,  8.,  4., 10.,  4., 12.,  7.,  7.,  5.,  6.,\n",
       "        17.,  8.,  6., 19., 15., 13., 12., 12., 23., 17., 18., 15., 18.,\n",
       "        26., 15., 25., 15., 30., 16., 19., 32., 18., 31., 27., 23., 37.,\n",
       "        24., 36., 20., 21., 20., 24., 22., 22., 24., 19., 12., 16.,  8.,\n",
       "        15., 18.,  9., 11., 10.,  8.,  7.,  5.,  8.,  7.,  5.,  6.,  3.,\n",
       "         1.,  2.,  6.,  4.,  0.,  1.,  0.,  1.,  3.,  1.,  2.,  2.,  1.,\n",
       "         1.,  0.,  1.,  0.,  0.,  0.,  0.,  1.,  1.]),\n",
       " array([3.336  , 3.33941, 3.34282, 3.34623, 3.34964, 3.35305, 3.35646,\n",
       "        3.35987, 3.36328, 3.36669, 3.3701 , 3.37351, 3.37692, 3.38033,\n",
       "        3.38374, 3.38715, 3.39056, 3.39397, 3.39738, 3.40079, 3.4042 ,\n",
       "        3.40761, 3.41102, 3.41443, 3.41784, 3.42125, 3.42466, 3.42807,\n",
       "        3.43148, 3.43489, 3.4383 , 3.44171, 3.44512, 3.44853, 3.45194,\n",
       "        3.45535, 3.45876, 3.46217, 3.46558, 3.46899, 3.4724 , 3.47581,\n",
       "        3.47922, 3.48263, 3.48604, 3.48945, 3.49286, 3.49627, 3.49968,\n",
       "        3.50309, 3.5065 , 3.50991, 3.51332, 3.51673, 3.52014, 3.52355,\n",
       "        3.52696, 3.53037, 3.53378, 3.53719, 3.5406 , 3.54401, 3.54742,\n",
       "        3.55083, 3.55424, 3.55765, 3.56106, 3.56447, 3.56788, 3.57129,\n",
       "        3.5747 , 3.57811, 3.58152, 3.58493, 3.58834, 3.59175, 3.59516,\n",
       "        3.59857, 3.60198, 3.60539, 3.6088 , 3.61221, 3.61562, 3.61903,\n",
       "        3.62244, 3.62585, 3.62926, 3.63267, 3.63608, 3.63949, 3.6429 ,\n",
       "        3.64631, 3.64972, 3.65313, 3.65654, 3.65995, 3.66336, 3.66677,\n",
       "        3.67018, 3.67359, 3.677  ]),\n",
       " <BarContainer object of 100 artists>)"
      ]
     },
     "execution_count": 8,
     "metadata": {},
     "output_type": "execute_result"
    },
    {
     "data": {
      "image/png": "[encoded data removed]",
      "text/plain": [
       "<Figure size 432x288 with 1 Axes>"
      ]
     },
     "metadata": {
      "filenames": {
       "image/png": "/Users/komotokenta/Docker/practice-datavisualization/python-datavisualization/_build/jupyter_execute/matplotlib_basic_15_1.png"
      },
      "needs_background": "light"
     },
     "output_type": "display_data"
    }
   ],
   "source": [
    "plt.hist(data, bins=100)"
   ]
  },
  {
   "cell_type": "markdown",
   "metadata": {},
   "source": [
    "```{tip}\n",
    "実は**中心極限定理**によって、この分布は正規分布に近づいていくらしいです。（よくわかってない）\n",
    "\n",
    "[中心極限定理 - 統計WEB](https://bellcurve.jp/statistics/course/8543.html)\n",
    "```"
   ]
  },
  {
   "cell_type": "markdown",
   "metadata": {},
   "source": [
    "## 箱ひげ図\n",
    "\n",
    "**データの生成**\n",
    "\n",
    "確率90%、60%、30%で表が出るコインを用意して、何回連続で表が出るかを調べます。  \n",
    "それぞれ1000回ずつ試行します。"
   ]
  },
  {
   "cell_type": "code",
   "execution_count": 9,
   "metadata": {},
   "outputs": [],
   "source": [
    "from random import randint"
   ]
  },
  {
   "cell_type": "code",
   "execution_count": 10,
   "metadata": {},
   "outputs": [
    {
     "name": "stdout",
     "output_type": "stream",
     "text": [
      "90%:  [3, 2, 5, 25, 26, 25, 0, 6, 2, 18, 0, 35, 13, 2, 5, 16, 0, 6, 7, 28]\n",
      "60%:  [1, 1, 0, 3, 1, 3, 1, 0, 1, 2, 0, 2, 0, 0, 5, 0, 0, 0, 1, 7]\n",
      "30%:  [1, 0, 1, 0, 0, 0, 0, 1, 0, 0, 1, 2, 0, 0, 0, 0, 2, 0, 0, 1]\n"
     ]
    }
   ],
   "source": [
    "prob_90 = []\n",
    "prob_60 = []\n",
    "prob_30 = []\n",
    "\n",
    "for i in range(1000):\n",
    "\n",
    "    # 90%が何回連続で出るか\n",
    "    count_90 = 0\n",
    "    while randint(1, 100) <= 90:\n",
    "        count_90 += 1\n",
    "    prob_90.append(count_90)\n",
    "\n",
    "    # 60%が何回連続で出るか\n",
    "    count_60 = 0\n",
    "    while randint(1, 100) <= 60:\n",
    "        count_60 += 1\n",
    "    prob_60.append(count_60)\n",
    "\n",
    "    # 30%が何回連続で出るか\n",
    "    count_30 = 0\n",
    "    while randint(1, 100) <= 30:\n",
    "        count_30 += 1\n",
    "    prob_30.append(count_30)\n",
    "\n",
    "print(\"90%: \", prob_90[:20])\n",
    "print(\"60%: \", prob_60[:20])\n",
    "print(\"30%: \", prob_30[:20])"
   ]
  },
  {
   "cell_type": "code",
   "execution_count": 11,
   "metadata": {},
   "outputs": [
    {
     "data": {
      "text/plain": [
       "{'whiskers': [<matplotlib.lines.Line2D at 0x11bf9fee0>,\n",
       "  <matplotlib.lines.Line2D at 0x11bfbc1f0>,\n",
       "  <matplotlib.lines.Line2D at 0x11bfbd300>,\n",
       "  <matplotlib.lines.Line2D at 0x11bfbd5d0>,\n",
       "  <matplotlib.lines.Line2D at 0x11bfbe6b0>,\n",
       "  <matplotlib.lines.Line2D at 0x11bfbe980>],\n",
       " 'caps': [<matplotlib.lines.Line2D at 0x11bfbc4f0>,\n",
       "  <matplotlib.lines.Line2D at 0x11bfbc7c0>,\n",
       "  <matplotlib.lines.Line2D at 0x11bfbd8a0>,\n",
       "  <matplotlib.lines.Line2D at 0x11bfbdb70>,\n",
       "  <matplotlib.lines.Line2D at 0x11bfbec50>,\n",
       "  <matplotlib.lines.Line2D at 0x11bfbef20>],\n",
       " 'boxes': [<matplotlib.lines.Line2D at 0x11bf9fc10>,\n",
       "  <matplotlib.lines.Line2D at 0x11bfbd030>,\n",
       "  <matplotlib.lines.Line2D at 0x11bfbe3e0>],\n",
       " 'medians': [<matplotlib.lines.Line2D at 0x11bfbca90>,\n",
       "  <matplotlib.lines.Line2D at 0x11bfbde40>,\n",
       "  <matplotlib.lines.Line2D at 0x11bfbf1f0>],\n",
       " 'fliers': [<matplotlib.lines.Line2D at 0x11bfbcd60>,\n",
       "  <matplotlib.lines.Line2D at 0x11bfbe110>,\n",
       "  <matplotlib.lines.Line2D at 0x11bfbf4c0>],\n",
       " 'means': []}"
      ]
     },
     "execution_count": 11,
     "metadata": {},
     "output_type": "execute_result"
    },
    {
     "data": {
      "image/png": "[encoded data removed]",
      "text/plain": [
       "<Figure size 432x288 with 1 Axes>"
      ]
     },
     "metadata": {
      "filenames": {
       "image/png": "/Users/komotokenta/Docker/practice-datavisualization/python-datavisualization/_build/jupyter_execute/matplotlib_basic_20_1.png"
      },
      "needs_background": "light"
     },
     "output_type": "display_data"
    }
   ],
   "source": [
    "plt.boxplot((prob_90, prob_60, prob_30))"
   ]
  },
  {
   "cell_type": "markdown",
   "metadata": {},
   "source": [
    "90%だと70回以上出ることもあるのに対して、\n",
    "30%だと10回以上連続で出ることはほとんどないですね。"
   ]
  },
  {
   "cell_type": "markdown",
   "metadata": {},
   "source": [
    "## 参考\n",
    "- [Chainerチュートリアル](https://tutorials.chainer.org/ja/12_Introduction_to_Matplotlib.html)"
   ]
  }
 ],
 "metadata": {
  "kernelspec": {
   "display_name": "Python 3.10.2 ('.practice-datavisualization': venv)",
   "language": "python",
   "name": "python3"
  },
  "language_info": {
   "codemirror_mode": {
    "name": "ipython",
    "version": 3
   },
   "file_extension": ".py",
   "mimetype": "text/x-python",
   "name": "python",
   "nbconvert_exporter": "python",
   "pygments_lexer": "ipython3",
   "version": "3.10.2"
  },
  "vscode": {
   "interpreter": {
    "hash": "78d97a615b7eb856cc59c7df976d665ea878e9e1475b11b30e580e0add64b80f"
   }
  }
 },
 "nbformat": 4,
 "nbformat_minor": 2
}