{
 "cells": [
  {
   "cell_type": "markdown",
   "metadata": {},
   "source": [
    "# Matplotlib（基礎編）\n",
    "\n",
    "[![Open In Colab](https://colab.research.google.com/assets/colab-badge.svg)](https://colab.research.google.com/github/kentakom1213/practice-datavisualization/blob/main/matplotlib_basic.ipynb)\n",
    "\n",
    "まずは、[Chainerチュートリアル](https://tutorials.chainer.org/ja/12_Introduction_to_Matplotlib.html)通りプロット。\n",
    "簡単なグラフはこれで十分です。\n",
    "\n",
    "ここでは、numpyでデータを作成しつつプロットを行います。"
   ]
  },
  {
   "cell_type": "code",
   "execution_count": 1,
   "metadata": {},
   "outputs": [],
   "source": [
    "import numpy as np\n",
    "import matplotlib.pyplot as plt"
   ]
  },
  {
   "cell_type": "markdown",
   "metadata": {},
   "source": [
    "## numpyの使い方\n",
    "\n",
    "**一定区間に等間隔で散らばった点を生成**\n",
    "\n",
    "`np.arange(開始, 終了, 間隔)`"
   ]
  },
  {
   "cell_type": "code",
   "execution_count": 2,
   "metadata": {},
   "outputs": [
    {
     "data": {
      "text/plain": [
       "array([-1.00000000e+00, -9.00000000e-01, -8.00000000e-01, -7.00000000e-01,\n",
       "       -6.00000000e-01, -5.00000000e-01, -4.00000000e-01, -3.00000000e-01,\n",
       "       -2.00000000e-01, -1.00000000e-01, -2.22044605e-16,  1.00000000e-01,\n",
       "        2.00000000e-01,  3.00000000e-01,  4.00000000e-01,  5.00000000e-01,\n",
       "        6.00000000e-01,  7.00000000e-01,  8.00000000e-01,  9.00000000e-01])"
      ]
     },
     "execution_count": 2,
     "metadata": {},
     "output_type": "execute_result"
    }
   ],
   "source": [
    "x = np.arange(-1, 1, 0.1)  # -1から1まで、0.1刻みで点を生成する\n",
    "\n",
    "x"
   ]
  },
  {
   "cell_type": "markdown",
   "metadata": {},
   "source": [
    "**関数にわたす**\n",
    "\n",
    "`np.array`を関数に渡すと、その要素全てに同じ操作が加えられます。\n",
    "\n",
    "例）\n",
    "```python\n",
    "np.array([1, 2, 3]) ** 2\n",
    "\n",
    "# array([1, 4, 9])\n",
    "```\n",
    "\n",
    "その他、`numpy`で定義されている関数\n",
    "\n",
    "- `sin`\n",
    "- `cos`\n",
    "- `tan`\n",
    "- `log`\n",
    "- `exp`\n",
    "\n",
    "も使えます。"
   ]
  },
  {
   "cell_type": "code",
   "execution_count": 3,
   "metadata": {},
   "outputs": [
    {
     "data": {
      "text/plain": [
       "array([-8.41470985e-01, -7.83326910e-01, -7.17356091e-01, -6.44217687e-01,\n",
       "       -5.64642473e-01, -4.79425539e-01, -3.89418342e-01, -2.95520207e-01,\n",
       "       -1.98669331e-01, -9.98334166e-02, -2.22044605e-16,  9.98334166e-02,\n",
       "        1.98669331e-01,  2.95520207e-01,  3.89418342e-01,  4.79425539e-01,\n",
       "        5.64642473e-01,  6.44217687e-01,  7.17356091e-01,  7.83326910e-01])"
      ]
     },
     "execution_count": 3,
     "metadata": {},
     "output_type": "execute_result"
    }
   ],
   "source": [
    "y = np.sin(x)  # 生成した点をsin関数に渡す\n",
    "\n",
    "y"
   ]
  },
  {
   "cell_type": "markdown",
   "metadata": {},
   "source": [
    "## 散布図\n",
    "\n",
    "`plt.scatter(xの配列, yの配列)`\n",
    "\n",
    "平面状に点を打ちます。\n"
   ]
  },
  {
   "cell_type": "code",
   "execution_count": 4,
   "metadata": {},
   "outputs": [
    {
     "data": {
      "text/plain": [
       "<matplotlib.collections.PathCollection at 0x107b2fe50>"
      ]
     },
     "execution_count": 4,
     "metadata": {},
     "output_type": "execute_result"
    },
    {
     "data": {
      "image/png": "[encoded data removed]",
      "text/plain": [
       "<Figure size 432x288 with 1 Axes>"
      ]
     },
     "metadata": {
      "filenames": {
       "image/png": "/Users/komotokenta/Docker/practice-datavisualization/python-datavisualization/_build/jupyter_execute/matplotlib_basic_7_1.png"
      },
      "needs_background": "light"
     },
     "output_type": "display_data"
    }
   ],
   "source": [
    "x = np.arange(-1, 1, 0.1)\n",
    "y = x ** 2\n",
    "\n",
    "plt.scatter(x, y)"
   ]
  },
  {
   "cell_type": "markdown",
   "metadata": {},
   "source": [
    "## 折れ線グラフ\n",
    "\n",
    "`plt.plot(xの配列, yの配列)`\n",
    "\n",
    "散布図と異なり、隣り合った点をつなげます。"
   ]
  },
  {
   "cell_type": "code",
   "execution_count": 5,
   "metadata": {},
   "outputs": [
    {
     "data": {
      "text/plain": [
       "[<matplotlib.lines.Line2D at 0x107c6a9e0>]"
      ]
     },
     "execution_count": 5,
     "metadata": {},
     "output_type": "execute_result"
    },
    {
     "data": {
      "image/png": "[encoded data removed]",
      "text/plain": [
       "<Figure size 432x288 with 1 Axes>"
      ]
     },
     "metadata": {
      "filenames": {
       "image/png": "/Users/komotokenta/Docker/practice-datavisualization/python-datavisualization/_build/jupyter_execute/matplotlib_basic_9_1.png"
      },
      "needs_background": "light"
     },
     "output_type": "display_data"
    }
   ],
   "source": [
    "x = np.arange(-3, 3, 0.5)\n",
    "y = np.sin(x)\n",
    "\n",
    "plt.plot(x, y)"
   ]
  },
  {
   "cell_type": "markdown",
   "metadata": {},
   "source": [
    "## ヒストグラム\n",
    "\n",
    "**データの生成**\n",
    "\n",
    "$1〜6$ までの数字をランダムに $1000$ 回選んで平均を求めます。  \n",
    "これを $1000$ 回繰り返して、どんな分布になっているかをみてみます。"
   ]
  },
  {
   "cell_type": "code",
   "execution_count": 6,
   "metadata": {},
   "outputs": [
    {
     "name": "stdout",
     "output_type": "stream",
     "text": [
      "[3.447, 3.426, 3.546, 3.479, 3.58, 3.554, 3.569, 3.529, 3.437, 3.435]\n"
     ]
    }
   ],
   "source": [
    "from random import randint\n",
    "\n",
    "data = []\n",
    "\n",
    "for i in range(1000):\n",
    "\n",
    "    # 1~6までの数字をランダムに選んで足す x 1000回\n",
    "    sum_of_dice = 0\n",
    "    for j in range(1000):\n",
    "        sum_of_dice += randint(1, 6)\n",
    "    \n",
    "    ave_of_dice = sum_of_dice / 1000  # 1000で割って平均を出す\n",
    "    data.append(ave_of_dice)\n",
    "\n",
    "\n",
    "print(data[:10])  # 10個目までを見る"
   ]
  },
  {
   "cell_type": "markdown",
   "metadata": {},
   "source": [
    "**ヒストグラムを作成**\n",
    "\n",
    "`plt.hist(データ)`\n",
    "\n",
    "自動的に階級の幅を決めてプロットしてくれます。\n",
    "この場合は $10$ 個の階級に分けられていました。"
   ]
  },
  {
   "cell_type": "code",
   "execution_count": 7,
   "metadata": {},
   "outputs": [
    {
     "data": {
      "text/plain": [
       "(array([  8.,  14.,  56., 131., 247., 245., 177.,  87.,  29.,   6.]),\n",
       " array([3.328 , 3.3615, 3.395 , 3.4285, 3.462 , 3.4955, 3.529 , 3.5625,\n",
       "        3.596 , 3.6295, 3.663 ]),\n",
       " <BarContainer object of 10 artists>)"
      ]
     },
     "execution_count": 7,
     "metadata": {},
     "output_type": "execute_result"
    },
    {
     "data": {
      "image/png": "[encoded data removed]",
      "text/plain": [
       "<Figure size 432x288 with 1 Axes>"
      ]
     },
     "metadata": {
      "filenames": {
       "image/png": "/Users/komotokenta/Docker/practice-datavisualization/python-datavisualization/_build/jupyter_execute/matplotlib_basic_13_1.png"
      },
      "needs_background": "light"
     },
     "output_type": "display_data"
    }
   ],
   "source": [
    "plt.hist(data)"
   ]
  },
  {
   "cell_type": "markdown",
   "metadata": {},
   "source": [
    "### パラメータの調整\n",
    "\n",
    "`hist`関数にオプションで `bins=100` を渡すと、階級を $100$ 個に分けることができます。"
   ]
  },
  {
   "cell_type": "code",
   "execution_count": 8,
   "metadata": {},
   "outputs": [
    {
     "data": {
      "text/plain": [
       "(array([ 1.,  1.,  0.,  2.,  0.,  1.,  2.,  0.,  0.,  1.,  0.,  0.,  2.,\n",
       "         1.,  1.,  3.,  1.,  1.,  5.,  0.,  3.,  5.,  2.,  2.,  3.,  9.,\n",
       "        12.,  5.,  8.,  7., 15., 11., 11., 11., 15., 13., 11., 17., 15.,\n",
       "        12., 26., 18., 24., 20., 29., 36., 21., 14., 30., 29., 21., 40.,\n",
       "        27., 23., 38., 18., 22., 27., 17., 12., 21., 15., 30., 14., 21.,\n",
       "        18., 17., 13., 14., 14., 14., 11.,  9., 11.,  6., 11.,  8.,  8.,\n",
       "         5.,  4., 10.,  3.,  4.,  2.,  1.,  4.,  2.,  0.,  2.,  1.,  1.,\n",
       "         1.,  0.,  2.,  0.,  1.,  0.,  0.,  0.,  1.]),\n",
       " array([3.328  , 3.33135, 3.3347 , 3.33805, 3.3414 , 3.34475, 3.3481 ,\n",
       "        3.35145, 3.3548 , 3.35815, 3.3615 , 3.36485, 3.3682 , 3.37155,\n",
       "        3.3749 , 3.37825, 3.3816 , 3.38495, 3.3883 , 3.39165, 3.395  ,\n",
       "        3.39835, 3.4017 , 3.40505, 3.4084 , 3.41175, 3.4151 , 3.41845,\n",
       "        3.4218 , 3.42515, 3.4285 , 3.43185, 3.4352 , 3.43855, 3.4419 ,\n",
       "        3.44525, 3.4486 , 3.45195, 3.4553 , 3.45865, 3.462  , 3.46535,\n",
       "        3.4687 , 3.47205, 3.4754 , 3.47875, 3.4821 , 3.48545, 3.4888 ,\n",
       "        3.49215, 3.4955 , 3.49885, 3.5022 , 3.50555, 3.5089 , 3.51225,\n",
       "        3.5156 , 3.51895, 3.5223 , 3.52565, 3.529  , 3.53235, 3.5357 ,\n",
       "        3.53905, 3.5424 , 3.54575, 3.5491 , 3.55245, 3.5558 , 3.55915,\n",
       "        3.5625 , 3.56585, 3.5692 , 3.57255, 3.5759 , 3.57925, 3.5826 ,\n",
       "        3.58595, 3.5893 , 3.59265, 3.596  , 3.59935, 3.6027 , 3.60605,\n",
       "        3.6094 , 3.61275, 3.6161 , 3.61945, 3.6228 , 3.62615, 3.6295 ,\n",
       "        3.63285, 3.6362 , 3.63955, 3.6429 , 3.64625, 3.6496 , 3.65295,\n",
       "        3.6563 , 3.65965, 3.663  ]),\n",
       " <BarContainer object of 100 artists>)"
      ]
     },
     "execution_count": 8,
     "metadata": {},
     "output_type": "execute_result"
    },
    {
     "data": {
      "image/png": "[encoded data removed]",
      "text/plain": [
       "<Figure size 432x288 with 1 Axes>"
      ]
     },
     "metadata": {
      "filenames": {
       "image/png": "/Users/komotokenta/Docker/practice-datavisualization/python-datavisualization/_build/jupyter_execute/matplotlib_basic_15_1.png"
      },
      "needs_background": "light"
     },
     "output_type": "display_data"
    }
   ],
   "source": [
    "plt.hist(data, bins=100)"
   ]
  },
  {
   "cell_type": "markdown",
   "metadata": {},
   "source": [
    "```{tip}\n",
    "実は**中心極限定理**によって、この分布は正規分布に近づいていくらしいです。（よくわかってない）\n",
    "\n",
    "[中心極限定理 - 統計WEB](https://bellcurve.jp/statistics/course/8543.html)\n",
    "```"
   ]
  },
  {
   "cell_type": "markdown",
   "metadata": {},
   "source": [
    "## 箱ひげ図\n",
    "\n",
    "**データの生成**\n",
    "\n",
    "確率90%、60%、30%で表が出るコインを用意して、何回連続で表が出るかを調べます。  \n",
    "それぞれ1000回ずつ試行します。"
   ]
  },
  {
   "cell_type": "code",
   "execution_count": 9,
   "metadata": {},
   "outputs": [],
   "source": [
    "from random import randint"
   ]
  },
  {
   "cell_type": "code",
   "execution_count": 10,
   "metadata": {},
   "outputs": [
    {
     "name": "stdout",
     "output_type": "stream",
     "text": [
      "90%:  [3, 8, 1, 4, 31, 2, 8, 5, 15, 5, 6, 4, 7, 6, 0, 9, 0, 0, 19, 15]\n",
      "60%:  [4, 3, 0, 3, 1, 0, 1, 0, 2, 0, 3, 0, 0, 0, 0, 1, 4, 0, 4, 4]\n",
      "30%:  [0, 0, 0, 0, 0, 1, 0, 0, 0, 0, 0, 3, 2, 0, 0, 0, 0, 3, 0, 0]\n"
     ]
    }
   ],
   "source": [
    "prob_90 = []\n",
    "prob_60 = []\n",
    "prob_30 = []\n",
    "\n",
    "for i in range(1000):\n",
    "\n",
    "    # 90%が何回連続で出るか\n",
    "    count_90 = 0\n",
    "    while randint(1, 100) <= 90:\n",
    "        count_90 += 1\n",
    "    prob_90.append(count_90)\n",
    "\n",
    "    # 60%が何回連続で出るか\n",
    "    count_60 = 0\n",
    "    while randint(1, 100) <= 60:\n",
    "        count_60 += 1\n",
    "    prob_60.append(count_60)\n",
    "\n",
    "    # 30%が何回連続で出るか\n",
    "    count_30 = 0\n",
    "    while randint(1, 100) <= 30:\n",
    "        count_30 += 1\n",
    "    prob_30.append(count_30)\n",
    "\n",
    "print(\"90%: \", prob_90[:20])\n",
    "print(\"60%: \", prob_60[:20])\n",
    "print(\"30%: \", prob_30[:20])"
   ]
  },
  {
   "cell_type": "code",
   "execution_count": 11,
   "metadata": {},
   "outputs": [
    {
     "data": {
      "text/plain": [
       "{'whiskers': [<matplotlib.lines.Line2D at 0x107ec0160>,\n",
       "  <matplotlib.lines.Line2D at 0x107ec0430>,\n",
       "  <matplotlib.lines.Line2D at 0x107ec1510>,\n",
       "  <matplotlib.lines.Line2D at 0x107ec17e0>,\n",
       "  <matplotlib.lines.Line2D at 0x107ec28c0>,\n",
       "  <matplotlib.lines.Line2D at 0x107ec2b90>],\n",
       " 'caps': [<matplotlib.lines.Line2D at 0x107ec0700>,\n",
       "  <matplotlib.lines.Line2D at 0x107ec09d0>,\n",
       "  <matplotlib.lines.Line2D at 0x107ec1ab0>,\n",
       "  <matplotlib.lines.Line2D at 0x107ec1d80>,\n",
       "  <matplotlib.lines.Line2D at 0x107ec2e60>,\n",
       "  <matplotlib.lines.Line2D at 0x107ec3130>],\n",
       " 'boxes': [<matplotlib.lines.Line2D at 0x107e9be50>,\n",
       "  <matplotlib.lines.Line2D at 0x107ec1240>,\n",
       "  <matplotlib.lines.Line2D at 0x107ec25f0>],\n",
       " 'medians': [<matplotlib.lines.Line2D at 0x107ec0ca0>,\n",
       "  <matplotlib.lines.Line2D at 0x107ec2050>,\n",
       "  <matplotlib.lines.Line2D at 0x107ec3400>],\n",
       " 'fliers': [<matplotlib.lines.Line2D at 0x107ec0f70>,\n",
       "  <matplotlib.lines.Line2D at 0x107ec2320>,\n",
       "  <matplotlib.lines.Line2D at 0x107ec36d0>],\n",
       " 'means': []}"
      ]
     },
     "execution_count": 11,
     "metadata": {},
     "output_type": "execute_result"
    },
    {
     "data": {
      "image/png": "[encoded data removed]",
      "text/plain": [
       "<Figure size 432x288 with 1 Axes>"
      ]
     },
     "metadata": {
      "filenames": {
       "image/png": "/Users/komotokenta/Docker/practice-datavisualization/python-datavisualization/_build/jupyter_execute/matplotlib_basic_20_1.png"
      },
      "needs_background": "light"
     },
     "output_type": "display_data"
    }
   ],
   "source": [
    "plt.boxplot((prob_90, prob_60, prob_30))"
   ]
  },
  {
   "cell_type": "markdown",
   "metadata": {},
   "source": [
    "90%だと70回以上出ることもあるのに対して、\n",
    "30%だと10回以上連続で出ることはほとんどないですね。"
   ]
  },
  {
   "cell_type": "markdown",
   "metadata": {},
   "source": [
    "## 参考\n",
    "- [Chainerチュートリアル](https://tutorials.chainer.org/ja/12_Introduction_to_Matplotlib.html)"
   ]
  }
 ],
 "metadata": {
  "kernelspec": {
   "display_name": "Python 3.10.2 ('.practice-datavisualization': venv)",
   "language": "python",
   "name": "python3"
  },
  "language_info": {
   "codemirror_mode": {
    "name": "ipython",
    "version": 3
   },
   "file_extension": ".py",
   "mimetype": "text/x-python",
   "name": "python",
   "nbconvert_exporter": "python",
   "pygments_lexer": "ipython3",
   "version": "3.10.2"
  },
  "vscode": {
   "interpreter": {
    "hash": "78d97a615b7eb856cc59c7df976d665ea878e9e1475b11b30e580e0add64b80f"
   }
  }
 },
 "nbformat": 4,
 "nbformat_minor": 2
}