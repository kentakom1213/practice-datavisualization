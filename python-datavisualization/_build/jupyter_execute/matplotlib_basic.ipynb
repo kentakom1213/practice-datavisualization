{
 "cells": [
  {
   "cell_type": "markdown",
   "metadata": {},
   "source": [
    "# Matplotlib（基礎編）\n",
    "\n",
    "[![Open In Colab](https://colab.research.google.com/assets/colab-badge.svg)]()\n",
    "\n",
    "まずは、[Chainerチュートリアル](https://tutorials.chainer.org/ja/12_Introduction_to_Matplotlib.html)通りプロット。\n",
    "簡単なグラフはこれで十分です。\n",
    "\n",
    "ここでは、numpyでデータを作成しつつプロットを行います。"
   ]
  },
  {
   "cell_type": "code",
   "execution_count": 1,
   "metadata": {},
   "outputs": [],
   "source": [
    "import numpy as np\n",
    "import matplotlib.pyplot as plt"
   ]
  },
  {
   "cell_type": "markdown",
   "metadata": {},
   "source": [
    "## numpyの使い方\n",
    "\n",
    "#### 一定区間に等間隔で散らばった点を生成\n",
    "`np.arange(開始, 終了, 間隔)`"
   ]
  },
  {
   "cell_type": "code",
   "execution_count": 2,
   "metadata": {},
   "outputs": [
    {
     "data": {
      "text/plain": [
       "array([-1.00000000e+00, -9.00000000e-01, -8.00000000e-01, -7.00000000e-01,\n",
       "       -6.00000000e-01, -5.00000000e-01, -4.00000000e-01, -3.00000000e-01,\n",
       "       -2.00000000e-01, -1.00000000e-01, -2.22044605e-16,  1.00000000e-01,\n",
       "        2.00000000e-01,  3.00000000e-01,  4.00000000e-01,  5.00000000e-01,\n",
       "        6.00000000e-01,  7.00000000e-01,  8.00000000e-01,  9.00000000e-01])"
      ]
     },
     "execution_count": 2,
     "metadata": {},
     "output_type": "execute_result"
    }
   ],
   "source": [
    "x = np.arange(-1, 1, 0.1)  # -1から1まで、0.1刻みで点を生成する\n",
    "\n",
    "x"
   ]
  },
  {
   "cell_type": "markdown",
   "metadata": {},
   "source": [
    "#### 関数にわたす\n",
    "\n",
    "`np.array`を関数に渡すと、その要素全てに同じ操作が加えられます。\n",
    "\n",
    "例）\n",
    "```python\n",
    "np.array([1, 2, 3]) ** 2\n",
    "\n",
    "# array([1, 4, 9])\n",
    "```\n",
    "\n",
    "その他、`numpy`で定義されている関数\n",
    "\n",
    "- `sin`\n",
    "- `cos`\n",
    "- `tan`\n",
    "- `log`\n",
    "- `exp`\n",
    "\n",
    "も使えます。"
   ]
  },
  {
   "cell_type": "code",
   "execution_count": 3,
   "metadata": {},
   "outputs": [
    {
     "data": {
      "text/plain": [
       "array([-8.41470985e-01, -7.83326910e-01, -7.17356091e-01, -6.44217687e-01,\n",
       "       -5.64642473e-01, -4.79425539e-01, -3.89418342e-01, -2.95520207e-01,\n",
       "       -1.98669331e-01, -9.98334166e-02, -2.22044605e-16,  9.98334166e-02,\n",
       "        1.98669331e-01,  2.95520207e-01,  3.89418342e-01,  4.79425539e-01,\n",
       "        5.64642473e-01,  6.44217687e-01,  7.17356091e-01,  7.83326910e-01])"
      ]
     },
     "execution_count": 3,
     "metadata": {},
     "output_type": "execute_result"
    }
   ],
   "source": [
    "y = np.sin(x)  # 生成した点をsin関数に渡す\n",
    "\n",
    "y"
   ]
  },
  {
   "cell_type": "markdown",
   "metadata": {},
   "source": [
    "## 散布図\n",
    "\n",
    "`plt.scatter(xの配列, yの配列)`\n",
    "\n",
    "平面状に点を打ちます。\n"
   ]
  },
  {
   "cell_type": "code",
   "execution_count": 4,
   "metadata": {},
   "outputs": [
    {
     "data": {
      "text/plain": [
       "<matplotlib.collections.PathCollection at 0x124f2fe20>"
      ]
     },
     "execution_count": 4,
     "metadata": {},
     "output_type": "execute_result"
    },
    {
     "data": {
      "image/png": "[encoded data removed]",
      "text/plain": [
       "<Figure size 432x288 with 1 Axes>"
      ]
     },
     "metadata": {
      "filenames": {
       "image/png": "/Users/komotokenta/Docker/practice-datavisualization/python-datavisualization/_build/jupyter_execute/matplotlib_basic_7_1.png"
      },
      "needs_background": "light"
     },
     "output_type": "display_data"
    }
   ],
   "source": [
    "x = np.arange(-1, 1, 0.1)\n",
    "y = x ** 2\n",
    "\n",
    "plt.scatter(x, y)"
   ]
  },
  {
   "cell_type": "markdown",
   "metadata": {},
   "source": [
    "## 折れ線グラフ\n",
    "\n",
    "`plt.plot(xの配列, yの配列)`\n",
    "\n",
    "散布図と異なり、隣り合った点をつなげます。"
   ]
  },
  {
   "cell_type": "code",
   "execution_count": 5,
   "metadata": {},
   "outputs": [
    {
     "data": {
      "text/plain": [
       "[<matplotlib.lines.Line2D at 0x133072a70>]"
      ]
     },
     "execution_count": 5,
     "metadata": {},
     "output_type": "execute_result"
    },
    {
     "data": {
      "image/png": "[encoded data removed]",
      "text/plain": [
       "<Figure size 432x288 with 1 Axes>"
      ]
     },
     "metadata": {
      "filenames": {
       "image/png": "/Users/komotokenta/Docker/practice-datavisualization/python-datavisualization/_build/jupyter_execute/matplotlib_basic_9_1.png"
      },
      "needs_background": "light"
     },
     "output_type": "display_data"
    }
   ],
   "source": [
    "x = np.arange(-3, 3, 0.5)\n",
    "y = np.sin(x)\n",
    "\n",
    "plt.plot(x, y)"
   ]
  },
  {
   "cell_type": "markdown",
   "metadata": {},
   "source": [
    "## ヒストグラム\n",
    "\n",
    "### データの生成\n",
    "$1〜6$ までの数字をランダムに $1000$ 回選んで平均を求めます。\n",
    "\n",
    "これを $1000$ 回繰り返して、どんな分布になっているかをみてみます。"
   ]
  },
  {
   "cell_type": "code",
   "execution_count": 6,
   "metadata": {},
   "outputs": [
    {
     "name": "stdout",
     "output_type": "stream",
     "text": [
      "[3.446, 3.639, 3.482, 3.479, 3.494, 3.49, 3.499, 3.576, 3.443, 3.589]\n"
     ]
    }
   ],
   "source": [
    "from random import randint\n",
    "\n",
    "data = []\n",
    "\n",
    "for i in range(1000):\n",
    "\n",
    "    # 1~6までの数字をランダムに選んで足す x 1000回\n",
    "    sum_of_dice = 0\n",
    "    for j in range(1000):\n",
    "        sum_of_dice += randint(1, 6)\n",
    "    \n",
    "    ave_of_dice = sum_of_dice / 1000  # 1000で割って平均を出す\n",
    "    data.append(ave_of_dice)\n",
    "\n",
    "\n",
    "print(data[:10])  # 10個目までを見る"
   ]
  },
  {
   "cell_type": "markdown",
   "metadata": {},
   "source": [
    "### ヒストグラムを作成\n",
    "`plt.hist(データ)`\n",
    "\n",
    "自動的に階級の幅を決めてプロットしてくれます。\n",
    "この場合は $10$ 個の階級に分けられていました。"
   ]
  },
  {
   "cell_type": "code",
   "execution_count": 7,
   "metadata": {},
   "outputs": [
    {
     "data": {
      "text/plain": [
       "(array([  6.,  13.,  66., 145., 262., 258., 152.,  77.,  19.,   2.]),\n",
       " array([3.317 , 3.3541, 3.3912, 3.4283, 3.4654, 3.5025, 3.5396, 3.5767,\n",
       "        3.6138, 3.6509, 3.688 ]),\n",
       " <BarContainer object of 10 artists>)"
      ]
     },
     "execution_count": 7,
     "metadata": {},
     "output_type": "execute_result"
    },
    {
     "data": {
      "image/png": "[encoded data removed]",
      "text/plain": [
       "<Figure size 432x288 with 1 Axes>"
      ]
     },
     "metadata": {
      "filenames": {
       "image/png": "/Users/komotokenta/Docker/practice-datavisualization/python-datavisualization/_build/jupyter_execute/matplotlib_basic_13_1.png"
      },
      "needs_background": "light"
     },
     "output_type": "display_data"
    }
   ],
   "source": [
    "plt.hist(data)"
   ]
  },
  {
   "cell_type": "markdown",
   "metadata": {},
   "source": [
    "### パラメータの調整\n",
    "\n",
    "`hist`関数にオプションで `bin=100` を渡すと、階級を $100$ 個に分けることができます。"
   ]
  },
  {
   "cell_type": "code",
   "execution_count": 8,
   "metadata": {},
   "outputs": [
    {
     "data": {
      "text/plain": [
       "(array([ 2.,  0.,  0.,  0.,  0.,  1.,  2.,  0.,  1.,  0.,  0.,  0.,  1.,\n",
       "         1.,  1.,  3.,  1.,  2.,  2.,  2.,  5.,  3.,  6.,  5.,  6.,  7.,\n",
       "         5.,  8., 10., 11., 11.,  8., 17., 14.,  8., 14., 12., 15., 29.,\n",
       "        17., 18., 18., 27., 27., 30., 26., 34., 32., 22., 28., 36., 25.,\n",
       "        24., 28., 33., 21., 23., 30., 22., 16., 17., 24., 13., 13., 19.,\n",
       "        14., 16., 13.,  7., 16., 17.,  8., 11.,  9.,  9.,  7.,  6.,  5.,\n",
       "         2.,  3.,  3.,  2.,  3.,  1.,  2.,  1.,  3.,  2.,  1.,  1.,  0.,\n",
       "         0.,  1.,  0.,  0.,  0.,  0.,  0.,  0.,  1.]),\n",
       " array([3.317  , 3.32071, 3.32442, 3.32813, 3.33184, 3.33555, 3.33926,\n",
       "        3.34297, 3.34668, 3.35039, 3.3541 , 3.35781, 3.36152, 3.36523,\n",
       "        3.36894, 3.37265, 3.37636, 3.38007, 3.38378, 3.38749, 3.3912 ,\n",
       "        3.39491, 3.39862, 3.40233, 3.40604, 3.40975, 3.41346, 3.41717,\n",
       "        3.42088, 3.42459, 3.4283 , 3.43201, 3.43572, 3.43943, 3.44314,\n",
       "        3.44685, 3.45056, 3.45427, 3.45798, 3.46169, 3.4654 , 3.46911,\n",
       "        3.47282, 3.47653, 3.48024, 3.48395, 3.48766, 3.49137, 3.49508,\n",
       "        3.49879, 3.5025 , 3.50621, 3.50992, 3.51363, 3.51734, 3.52105,\n",
       "        3.52476, 3.52847, 3.53218, 3.53589, 3.5396 , 3.54331, 3.54702,\n",
       "        3.55073, 3.55444, 3.55815, 3.56186, 3.56557, 3.56928, 3.57299,\n",
       "        3.5767 , 3.58041, 3.58412, 3.58783, 3.59154, 3.59525, 3.59896,\n",
       "        3.60267, 3.60638, 3.61009, 3.6138 , 3.61751, 3.62122, 3.62493,\n",
       "        3.62864, 3.63235, 3.63606, 3.63977, 3.64348, 3.64719, 3.6509 ,\n",
       "        3.65461, 3.65832, 3.66203, 3.66574, 3.66945, 3.67316, 3.67687,\n",
       "        3.68058, 3.68429, 3.688  ]),\n",
       " <BarContainer object of 100 artists>)"
      ]
     },
     "execution_count": 8,
     "metadata": {},
     "output_type": "execute_result"
    },
    {
     "data": {
      "image/png": "[encoded data removed]",
      "text/plain": [
       "<Figure size 432x288 with 1 Axes>"
      ]
     },
     "metadata": {
      "filenames": {
       "image/png": "/Users/komotokenta/Docker/practice-datavisualization/python-datavisualization/_build/jupyter_execute/matplotlib_basic_15_1.png"
      },
      "needs_background": "light"
     },
     "output_type": "display_data"
    }
   ],
   "source": [
    "plt.hist(data, bins=100)"
   ]
  },
  {
   "cell_type": "markdown",
   "metadata": {},
   "source": [
    "```{tip}\n",
    "実は**中心極限定理**によって、この分布は正規分布に近づいていくらしいです。（よくわかってない）\n",
    "\n",
    "[中心極限定理 - 統計WEB](https://bellcurve.jp/statistics/course/8543.html)\n",
    "```"
   ]
  },
  {
   "cell_type": "markdown",
   "metadata": {},
   "source": [
    "## 参考\n",
    "- [Chainerチュートリアル](https://tutorials.chainer.org/ja/12_Introduction_to_Matplotlib.html)"
   ]
  }
 ],
 "metadata": {
  "kernelspec": {
   "display_name": "Python 3.10.2 ('.practice-datavisualization': venv)",
   "language": "python",
   "name": "python3"
  },
  "language_info": {
   "codemirror_mode": {
    "name": "ipython",
    "version": 3
   },
   "file_extension": ".py",
   "mimetype": "text/x-python",
   "name": "python",
   "nbconvert_exporter": "python",
   "pygments_lexer": "ipython3",
   "version": "3.10.2"
  },
  "vscode": {
   "interpreter": {
    "hash": "78d97a615b7eb856cc59c7df976d665ea878e9e1475b11b30e580e0add64b80f"
   }
  }
 },
 "nbformat": 4,
 "nbformat_minor": 2
}