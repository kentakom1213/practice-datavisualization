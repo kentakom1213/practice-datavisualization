{
 "cells": [
  {
   "cell_type": "markdown",
   "metadata": {},
   "source": [
    "# Matplotlib（基礎編）\n",
    "\n",
    "[![Open In Colab](https://colab.research.google.com/assets/colab-badge.svg)](https://colab.research.google.com/github/kentakom1213/practice-datavisualization/blob/main/matplotlib_basic.ipynb)\n",
    "\n",
    "まずは、[Chainerチュートリアル](https://tutorials.chainer.org/ja/12_Introduction_to_Matplotlib.html)通りプロット。\n",
    "簡単なグラフはこれで十分です。\n",
    "\n",
    "ここでは、numpyでデータを作成しつつプロットを行います。"
   ]
  },
  {
   "cell_type": "code",
   "execution_count": 1,
   "metadata": {},
   "outputs": [],
   "source": [
    "import numpy as np\n",
    "import matplotlib.pyplot as plt"
   ]
  },
  {
   "cell_type": "markdown",
   "metadata": {},
   "source": [
    "## numpyの使い方\n",
    "\n",
    "**一定区間に等間隔で散らばった点を生成**\n",
    "\n",
    "`np.arange(開始, 終了, 間隔)`"
   ]
  },
  {
   "cell_type": "code",
   "execution_count": 2,
   "metadata": {},
   "outputs": [
    {
     "data": {
      "text/plain": [
       "array([-1.00000000e+00, -9.00000000e-01, -8.00000000e-01, -7.00000000e-01,\n",
       "       -6.00000000e-01, -5.00000000e-01, -4.00000000e-01, -3.00000000e-01,\n",
       "       -2.00000000e-01, -1.00000000e-01, -2.22044605e-16,  1.00000000e-01,\n",
       "        2.00000000e-01,  3.00000000e-01,  4.00000000e-01,  5.00000000e-01,\n",
       "        6.00000000e-01,  7.00000000e-01,  8.00000000e-01,  9.00000000e-01])"
      ]
     },
     "execution_count": 2,
     "metadata": {},
     "output_type": "execute_result"
    }
   ],
   "source": [
    "x = np.arange(-1, 1, 0.1)  # -1から1まで、0.1刻みで点を生成する\n",
    "\n",
    "x"
   ]
  },
  {
   "cell_type": "markdown",
   "metadata": {},
   "source": [
    "**関数にわたす**\n",
    "\n",
    "`np.array`を関数に渡すと、その要素全てに同じ操作が加えられます。\n",
    "\n",
    "例）\n",
    "```python\n",
    "np.array([1, 2, 3]) ** 2\n",
    "\n",
    "# array([1, 4, 9])\n",
    "```\n",
    "\n",
    "その他、`numpy`で定義されている関数\n",
    "\n",
    "- `sin`\n",
    "- `cos`\n",
    "- `tan`\n",
    "- `log`\n",
    "- `exp`\n",
    "\n",
    "も使えます。"
   ]
  },
  {
   "cell_type": "code",
   "execution_count": 3,
   "metadata": {},
   "outputs": [
    {
     "data": {
      "text/plain": [
       "array([-8.41470985e-01, -7.83326910e-01, -7.17356091e-01, -6.44217687e-01,\n",
       "       -5.64642473e-01, -4.79425539e-01, -3.89418342e-01, -2.95520207e-01,\n",
       "       -1.98669331e-01, -9.98334166e-02, -2.22044605e-16,  9.98334166e-02,\n",
       "        1.98669331e-01,  2.95520207e-01,  3.89418342e-01,  4.79425539e-01,\n",
       "        5.64642473e-01,  6.44217687e-01,  7.17356091e-01,  7.83326910e-01])"
      ]
     },
     "execution_count": 3,
     "metadata": {},
     "output_type": "execute_result"
    }
   ],
   "source": [
    "y = np.sin(x)  # 生成した点をsin関数に渡す\n",
    "\n",
    "y"
   ]
  },
  {
   "cell_type": "markdown",
   "metadata": {},
   "source": [
    "## 散布図\n",
    "\n",
    "`plt.scatter(xの配列, yの配列)`\n",
    "\n",
    "平面状に点を打ちます。\n"
   ]
  },
  {
   "cell_type": "code",
   "execution_count": 4,
   "metadata": {},
   "outputs": [
    {
     "data": {
      "text/plain": [
       "<matplotlib.collections.PathCollection at 0x12462fe50>"
      ]
     },
     "execution_count": 4,
     "metadata": {},
     "output_type": "execute_result"
    },
    {
     "data": {
      "image/png": "[encoded data removed]",
      "text/plain": [
       "<Figure size 432x288 with 1 Axes>"
      ]
     },
     "metadata": {
      "filenames": {
       "image/png": "/Users/komotokenta/Docker/practice-datavisualization/python-datavisualization/_build/jupyter_execute/matplotlib_basic_7_1.png"
      },
      "needs_background": "light"
     },
     "output_type": "display_data"
    }
   ],
   "source": [
    "x = np.arange(-1, 1, 0.1)\n",
    "y = x ** 2\n",
    "\n",
    "plt.scatter(x, y)"
   ]
  },
  {
   "cell_type": "markdown",
   "metadata": {},
   "source": [
    "## 折れ線グラフ\n",
    "\n",
    "`plt.plot(xの配列, yの配列)`\n",
    "\n",
    "散布図と異なり、隣り合った点をつなげます。"
   ]
  },
  {
   "cell_type": "code",
   "execution_count": 5,
   "metadata": {},
   "outputs": [
    {
     "data": {
      "text/plain": [
       "[<matplotlib.lines.Line2D at 0x12476ea70>]"
      ]
     },
     "execution_count": 5,
     "metadata": {},
     "output_type": "execute_result"
    },
    {
     "data": {
      "image/png": "[encoded data removed]",
      "text/plain": [
       "<Figure size 432x288 with 1 Axes>"
      ]
     },
     "metadata": {
      "filenames": {
       "image/png": "/Users/komotokenta/Docker/practice-datavisualization/python-datavisualization/_build/jupyter_execute/matplotlib_basic_9_1.png"
      },
      "needs_background": "light"
     },
     "output_type": "display_data"
    }
   ],
   "source": [
    "x = np.arange(-3, 3, 0.5)\n",
    "y = np.sin(x)\n",
    "\n",
    "plt.plot(x, y)"
   ]
  },
  {
   "cell_type": "markdown",
   "metadata": {},
   "source": [
    "## ヒストグラム\n",
    "\n",
    "**データの生成**\n",
    "\n",
    "$1〜6$ までの数字をランダムに $1000$ 回選んで平均を求めます。  \n",
    "これを $1000$ 回繰り返して、どんな分布になっているかをみてみます。"
   ]
  },
  {
   "cell_type": "code",
   "execution_count": 6,
   "metadata": {},
   "outputs": [
    {
     "name": "stdout",
     "output_type": "stream",
     "text": [
      "[3.546, 3.41, 3.517, 3.579, 3.494, 3.517, 3.558, 3.483, 3.521, 3.48]\n"
     ]
    }
   ],
   "source": [
    "from random import randint\n",
    "\n",
    "data = []\n",
    "\n",
    "for i in range(1000):\n",
    "\n",
    "    # 1~6までの数字をランダムに選んで足す x 1000回\n",
    "    sum_of_dice = 0\n",
    "    for j in range(1000):\n",
    "        sum_of_dice += randint(1, 6)\n",
    "    \n",
    "    ave_of_dice = sum_of_dice / 1000  # 1000で割って平均を出す\n",
    "    data.append(ave_of_dice)\n",
    "\n",
    "\n",
    "print(data[:10])  # 10個目までを見る"
   ]
  },
  {
   "cell_type": "markdown",
   "metadata": {},
   "source": [
    "**ヒストグラムを作成**\n",
    "\n",
    "`plt.hist(データ)`\n",
    "\n",
    "自動的に階級の幅を決めてプロットしてくれます。\n",
    "この場合は $10$ 個の階級に分けられていました。"
   ]
  },
  {
   "cell_type": "code",
   "execution_count": 7,
   "metadata": {},
   "outputs": [
    {
     "data": {
      "text/plain": [
       "(array([ 10.,  34., 106., 205., 244., 219., 117.,  46.,  15.,   4.]),\n",
       " array([3.346 , 3.3794, 3.4128, 3.4462, 3.4796, 3.513 , 3.5464, 3.5798,\n",
       "        3.6132, 3.6466, 3.68  ]),\n",
       " <BarContainer object of 10 artists>)"
      ]
     },
     "execution_count": 7,
     "metadata": {},
     "output_type": "execute_result"
    },
    {
     "data": {
      "image/png": "[encoded data removed]",
      "text/plain": [
       "<Figure size 432x288 with 1 Axes>"
      ]
     },
     "metadata": {
      "filenames": {
       "image/png": "/Users/komotokenta/Docker/practice-datavisualization/python-datavisualization/_build/jupyter_execute/matplotlib_basic_13_1.png"
      },
      "needs_background": "light"
     },
     "output_type": "display_data"
    }
   ],
   "source": [
    "plt.hist(data)"
   ]
  },
  {
   "cell_type": "markdown",
   "metadata": {},
   "source": [
    "### パラメータの調整\n",
    "\n",
    "`hist`関数にオプションで `bins=100` を渡すと、階級を $100$ 個に分けることができます。"
   ]
  },
  {
   "cell_type": "code",
   "execution_count": 8,
   "metadata": {},
   "outputs": [
    {
     "data": {
      "text/plain": [
       "(array([ 1.,  1.,  0.,  1.,  1.,  0.,  2.,  2.,  0.,  2.,  0.,  2.,  2.,\n",
       "         2.,  3.,  6.,  1.,  3.,  5., 10.,  8., 10., 12., 10.,  7.,  6.,\n",
       "        11., 12.,  8., 22.,  9., 10., 26., 19., 19., 23., 21., 20., 34.,\n",
       "        24., 24., 30., 17., 29., 32., 26., 17., 26., 20., 23., 31., 21.,\n",
       "        28., 24., 22., 17., 19., 18., 24., 15., 12., 23.,  8., 17.,  8.,\n",
       "        11., 11., 13.,  6.,  8.,  7.,  8.,  2.,  9.,  5.,  5.,  4.,  3.,\n",
       "         2.,  1.,  1.,  2.,  1.,  2.,  4.,  2.,  0.,  0.,  2.,  1.,  0.,\n",
       "         0.,  1.,  1.,  0.,  0.,  0.,  0.,  0.,  2.]),\n",
       " array([3.346  , 3.34934, 3.35268, 3.35602, 3.35936, 3.3627 , 3.36604,\n",
       "        3.36938, 3.37272, 3.37606, 3.3794 , 3.38274, 3.38608, 3.38942,\n",
       "        3.39276, 3.3961 , 3.39944, 3.40278, 3.40612, 3.40946, 3.4128 ,\n",
       "        3.41614, 3.41948, 3.42282, 3.42616, 3.4295 , 3.43284, 3.43618,\n",
       "        3.43952, 3.44286, 3.4462 , 3.44954, 3.45288, 3.45622, 3.45956,\n",
       "        3.4629 , 3.46624, 3.46958, 3.47292, 3.47626, 3.4796 , 3.48294,\n",
       "        3.48628, 3.48962, 3.49296, 3.4963 , 3.49964, 3.50298, 3.50632,\n",
       "        3.50966, 3.513  , 3.51634, 3.51968, 3.52302, 3.52636, 3.5297 ,\n",
       "        3.53304, 3.53638, 3.53972, 3.54306, 3.5464 , 3.54974, 3.55308,\n",
       "        3.55642, 3.55976, 3.5631 , 3.56644, 3.56978, 3.57312, 3.57646,\n",
       "        3.5798 , 3.58314, 3.58648, 3.58982, 3.59316, 3.5965 , 3.59984,\n",
       "        3.60318, 3.60652, 3.60986, 3.6132 , 3.61654, 3.61988, 3.62322,\n",
       "        3.62656, 3.6299 , 3.63324, 3.63658, 3.63992, 3.64326, 3.6466 ,\n",
       "        3.64994, 3.65328, 3.65662, 3.65996, 3.6633 , 3.66664, 3.66998,\n",
       "        3.67332, 3.67666, 3.68   ]),\n",
       " <BarContainer object of 100 artists>)"
      ]
     },
     "execution_count": 8,
     "metadata": {},
     "output_type": "execute_result"
    },
    {
     "data": {
      "image/png": "[encoded data removed]",
      "text/plain": [
       "<Figure size 432x288 with 1 Axes>"
      ]
     },
     "metadata": {
      "filenames": {
       "image/png": "/Users/komotokenta/Docker/practice-datavisualization/python-datavisualization/_build/jupyter_execute/matplotlib_basic_15_1.png"
      },
      "needs_background": "light"
     },
     "output_type": "display_data"
    }
   ],
   "source": [
    "plt.hist(data, bins=100)"
   ]
  },
  {
   "cell_type": "markdown",
   "metadata": {},
   "source": [
    "```{tip}\n",
    "実は**中心極限定理**によって、この分布は正規分布に近づいていくらしいです。（よくわかってない）\n",
    "\n",
    "[中心極限定理 - 統計WEB](https://bellcurve.jp/statistics/course/8543.html)\n",
    "```"
   ]
  },
  {
   "cell_type": "markdown",
   "metadata": {},
   "source": [
    "## 箱ひげ図\n",
    "\n",
    "**データの生成**\n",
    "\n",
    "確率90%、60%、30%で表が出るコインを用意して、何回連続で表が出るかを調べます。  \n",
    "それぞれ1000回ずつ試行します。"
   ]
  },
  {
   "cell_type": "code",
   "execution_count": 9,
   "metadata": {},
   "outputs": [],
   "source": [
    "from random import randint"
   ]
  },
  {
   "cell_type": "code",
   "execution_count": 10,
   "metadata": {},
   "outputs": [
    {
     "name": "stdout",
     "output_type": "stream",
     "text": [
      "90%:  [0, 2, 0, 17, 3, 0, 4, 14, 6, 6, 5, 5, 6, 11, 2, 10, 9, 0, 6, 4]\n",
      "60%:  [0, 0, 0, 0, 0, 3, 0, 1, 1, 1, 3, 5, 3, 3, 2, 2, 0, 0, 4, 2]\n",
      "30%:  [0, 0, 0, 0, 0, 0, 2, 2, 2, 0, 0, 0, 1, 0, 0, 1, 0, 0, 0, 0]\n"
     ]
    }
   ],
   "source": [
    "prob_90 = []\n",
    "prob_60 = []\n",
    "prob_30 = []\n",
    "\n",
    "for i in range(1000):\n",
    "\n",
    "    # 90%が何回連続で出るか\n",
    "    count_90 = 0\n",
    "    while randint(1, 100) <= 90:\n",
    "        count_90 += 1\n",
    "    prob_90.append(count_90)\n",
    "\n",
    "    # 60%が何回連続で出るか\n",
    "    count_60 = 0\n",
    "    while randint(1, 100) <= 60:\n",
    "        count_60 += 1\n",
    "    prob_60.append(count_60)\n",
    "\n",
    "    # 30%が何回連続で出るか\n",
    "    count_30 = 0\n",
    "    while randint(1, 100) <= 30:\n",
    "        count_30 += 1\n",
    "    prob_30.append(count_30)\n",
    "\n",
    "print(\"90%: \", prob_90[:20])\n",
    "print(\"60%: \", prob_60[:20])\n",
    "print(\"30%: \", prob_30[:20])"
   ]
  },
  {
   "cell_type": "code",
   "execution_count": 11,
   "metadata": {},
   "outputs": [
    {
     "data": {
      "text/plain": [
       "{'whiskers': [<matplotlib.lines.Line2D at 0x12499bb20>,\n",
       "  <matplotlib.lines.Line2D at 0x12499bdf0>,\n",
       "  <matplotlib.lines.Line2D at 0x1249c0f40>,\n",
       "  <matplotlib.lines.Line2D at 0x1249c1210>,\n",
       "  <matplotlib.lines.Line2D at 0x1249c22f0>,\n",
       "  <matplotlib.lines.Line2D at 0x1249c25c0>],\n",
       " 'caps': [<matplotlib.lines.Line2D at 0x1249c0130>,\n",
       "  <matplotlib.lines.Line2D at 0x1249c0400>,\n",
       "  <matplotlib.lines.Line2D at 0x1249c14e0>,\n",
       "  <matplotlib.lines.Line2D at 0x1249c17b0>,\n",
       "  <matplotlib.lines.Line2D at 0x1249c2890>,\n",
       "  <matplotlib.lines.Line2D at 0x1249c2b60>],\n",
       " 'boxes': [<matplotlib.lines.Line2D at 0x12499b850>,\n",
       "  <matplotlib.lines.Line2D at 0x1249c0c70>,\n",
       "  <matplotlib.lines.Line2D at 0x1249c2020>],\n",
       " 'medians': [<matplotlib.lines.Line2D at 0x1249c06d0>,\n",
       "  <matplotlib.lines.Line2D at 0x1249c1a80>,\n",
       "  <matplotlib.lines.Line2D at 0x1249c2e30>],\n",
       " 'fliers': [<matplotlib.lines.Line2D at 0x1249c09a0>,\n",
       "  <matplotlib.lines.Line2D at 0x1249c1d50>,\n",
       "  <matplotlib.lines.Line2D at 0x1249c3100>],\n",
       " 'means': []}"
      ]
     },
     "execution_count": 11,
     "metadata": {},
     "output_type": "execute_result"
    },
    {
     "data": {
      "image/png": "[encoded data removed]",
      "text/plain": [
       "<Figure size 432x288 with 1 Axes>"
      ]
     },
     "metadata": {
      "filenames": {
       "image/png": "/Users/komotokenta/Docker/practice-datavisualization/python-datavisualization/_build/jupyter_execute/matplotlib_basic_20_1.png"
      },
      "needs_background": "light"
     },
     "output_type": "display_data"
    }
   ],
   "source": [
    "plt.boxplot((prob_90, prob_60, prob_30))"
   ]
  },
  {
   "cell_type": "markdown",
   "metadata": {},
   "source": [
    "90%だと70回以上出ることもあるのに対して、\n",
    "30%だと10回以上連続で出ることはほとんどないですね。"
   ]
  },
  {
   "cell_type": "markdown",
   "metadata": {},
   "source": [
    "## 参考\n",
    "- [Chainerチュートリアル](https://tutorials.chainer.org/ja/12_Introduction_to_Matplotlib.html)"
   ]
  }
 ],
 "metadata": {
  "kernelspec": {
   "display_name": "Python 3.10.2 ('.practice-datavisualization': venv)",
   "language": "python",
   "name": "python3"
  },
  "language_info": {
   "codemirror_mode": {
    "name": "ipython",
    "version": 3
   },
   "file_extension": ".py",
   "mimetype": "text/x-python",
   "name": "python",
   "nbconvert_exporter": "python",
   "pygments_lexer": "ipython3",
   "version": "3.10.2"
  },
  "vscode": {
   "interpreter": {
    "hash": "78d97a615b7eb856cc59c7df976d665ea878e9e1475b11b30e580e0add64b80f"
   }
  }
 },
 "nbformat": 4,
 "nbformat_minor": 2
}