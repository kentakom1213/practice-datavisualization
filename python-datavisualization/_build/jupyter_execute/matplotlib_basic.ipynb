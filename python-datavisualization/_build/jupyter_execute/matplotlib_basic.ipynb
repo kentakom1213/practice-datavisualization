{
 "cells": [
  {
   "cell_type": "markdown",
   "metadata": {},
   "source": [
    "# Matplotlib（基礎編）\n",
    "\n",
    "[![Open In Colab](https://colab.research.google.com/assets/colab-badge.svg)](http://colab.research.google.com/github/kentakom1213/blob/main/matplotlib_basic.ipynb)\n",
    "\n",
    "まずは、[Chainerチュートリアル](https://tutorials.chainer.org/ja/12_Introduction_to_Matplotlib.html)通りプロット。\n",
    "簡単なグラフはこれで十分です。\n",
    "\n",
    "ここでは、numpyでデータを作成しつつプロットを行います。"
   ]
  },
  {
   "cell_type": "code",
   "execution_count": 1,
   "metadata": {},
   "outputs": [],
   "source": [
    "import numpy as np\n",
    "import matplotlib.pyplot as plt"
   ]
  },
  {
   "cell_type": "markdown",
   "metadata": {},
   "source": [
    "## numpyの使い方\n",
    "\n",
    "**一定区間に等間隔で散らばった点を生成**\n",
    "\n",
    "`np.arange(開始, 終了, 間隔)`"
   ]
  },
  {
   "cell_type": "code",
   "execution_count": 2,
   "metadata": {},
   "outputs": [
    {
     "data": {
      "text/plain": [
       "array([-1.00000000e+00, -9.00000000e-01, -8.00000000e-01, -7.00000000e-01,\n",
       "       -6.00000000e-01, -5.00000000e-01, -4.00000000e-01, -3.00000000e-01,\n",
       "       -2.00000000e-01, -1.00000000e-01, -2.22044605e-16,  1.00000000e-01,\n",
       "        2.00000000e-01,  3.00000000e-01,  4.00000000e-01,  5.00000000e-01,\n",
       "        6.00000000e-01,  7.00000000e-01,  8.00000000e-01,  9.00000000e-01])"
      ]
     },
     "execution_count": 2,
     "metadata": {},
     "output_type": "execute_result"
    }
   ],
   "source": [
    "x = np.arange(-1, 1, 0.1)  # -1から1まで、0.1刻みで点を生成する\n",
    "\n",
    "x"
   ]
  },
  {
   "cell_type": "markdown",
   "metadata": {},
   "source": [
    "**関数にわたす**\n",
    "\n",
    "`np.array`を関数に渡すと、その要素全てに同じ操作が加えられます。\n",
    "\n",
    "例）\n",
    "```python\n",
    "np.array([1, 2, 3]) ** 2\n",
    "\n",
    "# array([1, 4, 9])\n",
    "```\n",
    "\n",
    "その他、`numpy`で定義されている関数\n",
    "\n",
    "- `sin`\n",
    "- `cos`\n",
    "- `tan`\n",
    "- `log`\n",
    "- `exp`\n",
    "\n",
    "も使えます。"
   ]
  },
  {
   "cell_type": "code",
   "execution_count": 3,
   "metadata": {},
   "outputs": [
    {
     "data": {
      "text/plain": [
       "array([-8.41470985e-01, -7.83326910e-01, -7.17356091e-01, -6.44217687e-01,\n",
       "       -5.64642473e-01, -4.79425539e-01, -3.89418342e-01, -2.95520207e-01,\n",
       "       -1.98669331e-01, -9.98334166e-02, -2.22044605e-16,  9.98334166e-02,\n",
       "        1.98669331e-01,  2.95520207e-01,  3.89418342e-01,  4.79425539e-01,\n",
       "        5.64642473e-01,  6.44217687e-01,  7.17356091e-01,  7.83326910e-01])"
      ]
     },
     "execution_count": 3,
     "metadata": {},
     "output_type": "execute_result"
    }
   ],
   "source": [
    "y = np.sin(x)  # 生成した点をsin関数に渡す\n",
    "\n",
    "y"
   ]
  },
  {
   "cell_type": "markdown",
   "metadata": {},
   "source": [
    "## 散布図\n",
    "\n",
    "`plt.scatter(xの配列, yの配列)`\n",
    "\n",
    "平面状に点を打ちます。\n"
   ]
  },
  {
   "cell_type": "code",
   "execution_count": 4,
   "metadata": {},
   "outputs": [
    {
     "data": {
      "text/plain": [
       "<matplotlib.collections.PathCollection at 0x10ee1fe20>"
      ]
     },
     "execution_count": 4,
     "metadata": {},
     "output_type": "execute_result"
    },
    {
     "data": {
      "image/png": "[encoded data removed]",
      "text/plain": [
       "<Figure size 432x288 with 1 Axes>"
      ]
     },
     "metadata": {
      "filenames": {
       "image/png": "/Users/komotokenta/Docker/practice-datavisualization/python-datavisualization/_build/jupyter_execute/matplotlib_basic_7_1.png"
      },
      "needs_background": "light"
     },
     "output_type": "display_data"
    }
   ],
   "source": [
    "x = np.arange(-1, 1, 0.1)\n",
    "y = x ** 2\n",
    "\n",
    "plt.scatter(x, y)"
   ]
  },
  {
   "cell_type": "markdown",
   "metadata": {},
   "source": [
    "## 折れ線グラフ\n",
    "\n",
    "`plt.plot(xの配列, yの配列)`\n",
    "\n",
    "散布図と異なり、隣り合った点をつなげます。"
   ]
  },
  {
   "cell_type": "code",
   "execution_count": 5,
   "metadata": {},
   "outputs": [
    {
     "data": {
      "text/plain": [
       "[<matplotlib.lines.Line2D at 0x10ef6a530>]"
      ]
     },
     "execution_count": 5,
     "metadata": {},
     "output_type": "execute_result"
    },
    {
     "data": {
      "image/png": "[encoded data removed]",
      "text/plain": [
       "<Figure size 432x288 with 1 Axes>"
      ]
     },
     "metadata": {
      "filenames": {
       "image/png": "/Users/komotokenta/Docker/practice-datavisualization/python-datavisualization/_build/jupyter_execute/matplotlib_basic_9_1.png"
      },
      "needs_background": "light"
     },
     "output_type": "display_data"
    }
   ],
   "source": [
    "x = np.arange(-3, 3, 0.5)\n",
    "y = np.sin(x)\n",
    "\n",
    "plt.plot(x, y)"
   ]
  },
  {
   "cell_type": "markdown",
   "metadata": {},
   "source": [
    "## ヒストグラム\n",
    "\n",
    "**データの生成**\n",
    "\n",
    "$1〜6$ までの数字をランダムに $1000$ 回選んで平均を求めます。  \n",
    "これを $1000$ 回繰り返して、どんな分布になっているかをみてみます。"
   ]
  },
  {
   "cell_type": "code",
   "execution_count": 6,
   "metadata": {},
   "outputs": [
    {
     "name": "stdout",
     "output_type": "stream",
     "text": [
      "[3.434, 3.532, 3.55, 3.516, 3.459, 3.486, 3.483, 3.489, 3.536, 3.554]\n"
     ]
    }
   ],
   "source": [
    "from random import randint\n",
    "\n",
    "data = []\n",
    "\n",
    "for i in range(1000):\n",
    "\n",
    "    # 1~6までの数字をランダムに選んで足す x 1000回\n",
    "    sum_of_dice = 0\n",
    "    for j in range(1000):\n",
    "        sum_of_dice += randint(1, 6)\n",
    "    \n",
    "    ave_of_dice = sum_of_dice / 1000  # 1000で割って平均を出す\n",
    "    data.append(ave_of_dice)\n",
    "\n",
    "\n",
    "print(data[:10])  # 10個目までを見る"
   ]
  },
  {
   "cell_type": "markdown",
   "metadata": {},
   "source": [
    "**ヒストグラムを作成**\n",
    "\n",
    "`plt.hist(データ)`\n",
    "\n",
    "自動的に階級の幅を決めてプロットしてくれます。\n",
    "この場合は $10$ 個の階級に分けられていました。"
   ]
  },
  {
   "cell_type": "code",
   "execution_count": 7,
   "metadata": {},
   "outputs": [
    {
     "data": {
      "text/plain": [
       "(array([ 13.,  34.,  93., 181., 280., 219., 117.,  52.,   8.,   3.]),\n",
       " array([3.331, 3.368, 3.405, 3.442, 3.479, 3.516, 3.553, 3.59 , 3.627,\n",
       "        3.664, 3.701]),\n",
       " <BarContainer object of 10 artists>)"
      ]
     },
     "execution_count": 7,
     "metadata": {},
     "output_type": "execute_result"
    },
    {
     "data": {
      "image/png": "[encoded data removed]",
      "text/plain": [
       "<Figure size 432x288 with 1 Axes>"
      ]
     },
     "metadata": {
      "filenames": {
       "image/png": "/Users/komotokenta/Docker/practice-datavisualization/python-datavisualization/_build/jupyter_execute/matplotlib_basic_13_1.png"
      },
      "needs_background": "light"
     },
     "output_type": "display_data"
    }
   ],
   "source": [
    "plt.hist(data)"
   ]
  },
  {
   "cell_type": "markdown",
   "metadata": {},
   "source": [
    "### パラメータの調整\n",
    "\n",
    "`hist`関数にオプションで `bins=100` を渡すと、階級を $100$ 個に分けることができます。"
   ]
  },
  {
   "cell_type": "code",
   "execution_count": 8,
   "metadata": {},
   "outputs": [
    {
     "data": {
      "text/plain": [
       "(array([ 1.,  0.,  0.,  1.,  2.,  2.,  0.,  2.,  3.,  2.,  1.,  1.,  3.,\n",
       "         1.,  9.,  2.,  3.,  8.,  3.,  3.,  4.,  6.,  6.,  7.,  9., 13.,\n",
       "         5., 16., 11., 16., 11., 25., 15., 18., 17., 16., 15., 19., 22.,\n",
       "        23., 26., 27., 30., 31., 28., 33., 23., 33., 26., 23., 33., 23.,\n",
       "        27., 20., 27., 16., 15., 23., 19., 16., 15., 17., 10.,  9., 18.,\n",
       "        12., 13., 10.,  9.,  4.,  8., 10.,  4.,  5.,  6., 11.,  2.,  1.,\n",
       "         2.,  3.,  1.,  2.,  1.,  0.,  1.,  0.,  0.,  2.,  1.,  0.,  2.,\n",
       "         0.,  0.,  0.,  0.,  0.,  0.,  0.,  0.,  1.]),\n",
       " array([3.331 , 3.3347, 3.3384, 3.3421, 3.3458, 3.3495, 3.3532, 3.3569,\n",
       "        3.3606, 3.3643, 3.368 , 3.3717, 3.3754, 3.3791, 3.3828, 3.3865,\n",
       "        3.3902, 3.3939, 3.3976, 3.4013, 3.405 , 3.4087, 3.4124, 3.4161,\n",
       "        3.4198, 3.4235, 3.4272, 3.4309, 3.4346, 3.4383, 3.442 , 3.4457,\n",
       "        3.4494, 3.4531, 3.4568, 3.4605, 3.4642, 3.4679, 3.4716, 3.4753,\n",
       "        3.479 , 3.4827, 3.4864, 3.4901, 3.4938, 3.4975, 3.5012, 3.5049,\n",
       "        3.5086, 3.5123, 3.516 , 3.5197, 3.5234, 3.5271, 3.5308, 3.5345,\n",
       "        3.5382, 3.5419, 3.5456, 3.5493, 3.553 , 3.5567, 3.5604, 3.5641,\n",
       "        3.5678, 3.5715, 3.5752, 3.5789, 3.5826, 3.5863, 3.59  , 3.5937,\n",
       "        3.5974, 3.6011, 3.6048, 3.6085, 3.6122, 3.6159, 3.6196, 3.6233,\n",
       "        3.627 , 3.6307, 3.6344, 3.6381, 3.6418, 3.6455, 3.6492, 3.6529,\n",
       "        3.6566, 3.6603, 3.664 , 3.6677, 3.6714, 3.6751, 3.6788, 3.6825,\n",
       "        3.6862, 3.6899, 3.6936, 3.6973, 3.701 ]),\n",
       " <BarContainer object of 100 artists>)"
      ]
     },
     "execution_count": 8,
     "metadata": {},
     "output_type": "execute_result"
    },
    {
     "data": {
      "image/png": "[encoded data removed]",
      "text/plain": [
       "<Figure size 432x288 with 1 Axes>"
      ]
     },
     "metadata": {
      "filenames": {
       "image/png": "/Users/komotokenta/Docker/practice-datavisualization/python-datavisualization/_build/jupyter_execute/matplotlib_basic_15_1.png"
      },
      "needs_background": "light"
     },
     "output_type": "display_data"
    }
   ],
   "source": [
    "plt.hist(data, bins=100)"
   ]
  },
  {
   "cell_type": "markdown",
   "metadata": {},
   "source": [
    "```{tip}\n",
    "実は**中心極限定理**によって、この分布は正規分布に近づいていくらしいです。（よくわかってない）\n",
    "\n",
    "[中心極限定理 - 統計WEB](https://bellcurve.jp/statistics/course/8543.html)\n",
    "```"
   ]
  },
  {
   "cell_type": "markdown",
   "metadata": {},
   "source": [
    "## 箱ひげ図\n",
    "\n",
    "**データの生成**\n",
    "\n",
    "確率90%、60%、30%で表が出るコインを用意して、何回連続で表が出るかを調べます。  \n",
    "それぞれ1000回ずつ試行します。"
   ]
  },
  {
   "cell_type": "code",
   "execution_count": 9,
   "metadata": {},
   "outputs": [],
   "source": [
    "from random import randint"
   ]
  },
  {
   "cell_type": "code",
   "execution_count": 10,
   "metadata": {},
   "outputs": [
    {
     "name": "stdout",
     "output_type": "stream",
     "text": [
      "90%:  [5, 8, 3, 1, 1, 2, 0, 31, 7, 4, 5, 5, 17, 4, 3, 8, 0, 14, 5, 9]\n",
      "60%:  [0, 2, 1, 1, 1, 0, 4, 3, 1, 2, 0, 4, 0, 0, 0, 3, 0, 2, 2, 4]\n",
      "30%:  [0, 0, 0, 1, 1, 0, 0, 1, 0, 0, 0, 0, 3, 2, 0, 2, 0, 0, 0, 0]\n"
     ]
    }
   ],
   "source": [
    "prob_90 = []\n",
    "prob_60 = []\n",
    "prob_30 = []\n",
    "\n",
    "for i in range(1000):\n",
    "\n",
    "    # 90%が何回連続で出るか\n",
    "    count_90 = 0\n",
    "    while randint(1, 100) <= 90:\n",
    "        count_90 += 1\n",
    "    prob_90.append(count_90)\n",
    "\n",
    "    # 60%が何回連続で出るか\n",
    "    count_60 = 0\n",
    "    while randint(1, 100) <= 60:\n",
    "        count_60 += 1\n",
    "    prob_60.append(count_60)\n",
    "\n",
    "    # 30%が何回連続で出るか\n",
    "    count_30 = 0\n",
    "    while randint(1, 100) <= 30:\n",
    "        count_30 += 1\n",
    "    prob_30.append(count_30)\n",
    "\n",
    "print(\"90%: \", prob_90[:20])\n",
    "print(\"60%: \", prob_60[:20])\n",
    "print(\"30%: \", prob_30[:20])"
   ]
  },
  {
   "cell_type": "code",
   "execution_count": 11,
   "metadata": {},
   "outputs": [
    {
     "data": {
      "text/plain": [
       "{'whiskers': [<matplotlib.lines.Line2D at 0x10f197790>,\n",
       "  <matplotlib.lines.Line2D at 0x10f197a60>,\n",
       "  <matplotlib.lines.Line2D at 0x10f1b8b80>,\n",
       "  <matplotlib.lines.Line2D at 0x10f1b8e50>,\n",
       "  <matplotlib.lines.Line2D at 0x10f1b9f30>,\n",
       "  <matplotlib.lines.Line2D at 0x10f1ba200>],\n",
       " 'caps': [<matplotlib.lines.Line2D at 0x10f197d30>,\n",
       "  <matplotlib.lines.Line2D at 0x10f1b8040>,\n",
       "  <matplotlib.lines.Line2D at 0x10f1b9120>,\n",
       "  <matplotlib.lines.Line2D at 0x10f1b93f0>,\n",
       "  <matplotlib.lines.Line2D at 0x10f1ba4d0>,\n",
       "  <matplotlib.lines.Line2D at 0x10f1ba7a0>],\n",
       " 'boxes': [<matplotlib.lines.Line2D at 0x10f197460>,\n",
       "  <matplotlib.lines.Line2D at 0x10f1b88b0>,\n",
       "  <matplotlib.lines.Line2D at 0x10f1b9c60>],\n",
       " 'medians': [<matplotlib.lines.Line2D at 0x10f1b8310>,\n",
       "  <matplotlib.lines.Line2D at 0x10f1b96c0>,\n",
       "  <matplotlib.lines.Line2D at 0x10f1baa70>],\n",
       " 'fliers': [<matplotlib.lines.Line2D at 0x10f1b85e0>,\n",
       "  <matplotlib.lines.Line2D at 0x10f1b9990>,\n",
       "  <matplotlib.lines.Line2D at 0x10f1bad40>],\n",
       " 'means': []}"
      ]
     },
     "execution_count": 11,
     "metadata": {},
     "output_type": "execute_result"
    },
    {
     "data": {
      "image/png": "[encoded data removed]",
      "text/plain": [
       "<Figure size 432x288 with 1 Axes>"
      ]
     },
     "metadata": {
      "filenames": {
       "image/png": "/Users/komotokenta/Docker/practice-datavisualization/python-datavisualization/_build/jupyter_execute/matplotlib_basic_20_1.png"
      },
      "needs_background": "light"
     },
     "output_type": "display_data"
    }
   ],
   "source": [
    "plt.boxplot((prob_90, prob_60, prob_30))"
   ]
  },
  {
   "cell_type": "markdown",
   "metadata": {},
   "source": [
    "90%だと70回以上出ることもあるのに対して、\n",
    "30%だと10回以上連続で出ることはほとんどないですね。"
   ]
  },
  {
   "cell_type": "markdown",
   "metadata": {},
   "source": [
    "## 参考\n",
    "- [Chainerチュートリアル](https://tutorials.chainer.org/ja/12_Introduction_to_Matplotlib.html)"
   ]
  }
 ],
 "metadata": {
  "kernelspec": {
   "display_name": "Python 3.10.2 ('.practice-datavisualization': venv)",
   "language": "python",
   "name": "python3"
  },
  "language_info": {
   "codemirror_mode": {
    "name": "ipython",
    "version": 3
   },
   "file_extension": ".py",
   "mimetype": "text/x-python",
   "name": "python",
   "nbconvert_exporter": "python",
   "pygments_lexer": "ipython3",
   "version": "3.10.2"
  },
  "vscode": {
   "interpreter": {
    "hash": "78d97a615b7eb856cc59c7df976d665ea878e9e1475b11b30e580e0add64b80f"
   }
  }
 },
 "nbformat": 4,
 "nbformat_minor": 2
}