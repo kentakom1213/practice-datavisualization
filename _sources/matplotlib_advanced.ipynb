{
 "cells": [
  {
   "cell_type": "markdown",
   "metadata": {},
   "source": [
    "# Matplotlib（応用編）\n",
    "\n",
    "[![Open In Colab](https://colab.research.google.com/assets/colab-badge.svg)]()\n",
    "\n",
    "ここでは、**オブジェクト指向**インターフェースを用いて、より発展的なグラフィックを作成します。\n",
    "\n",
    "```{admonition} オブジェクト指向とは？\n",
    ":class: note\n",
    "データとその処理をまとめて記述するプログラミング手法です。  \n",
    "その手法を用いることで、図を階層的に表現することができ、より細かい設定をすることが可能になっています。\n",
    "\n",
    "[オブジェクト指向 - Wikipedia](https://ja.wikipedia.org/wiki/%E3%82%AA%E3%83%96%E3%82%B8%E3%82%A7%E3%82%AF%E3%83%88%E6%8C%87%E5%90%91)\n",
    "```\n"
   ]
  },
  {
   "cell_type": "markdown",
   "metadata": {},
   "source": [
    "## 参考\n",
    "\n",
    "- [早く知っておきたかったmatplotlibの基礎知識、あるいは見た目の調整が捗るArtistの話 - Qiita](https://qiita.com/skotaro/items/08dc0b8c5704c94eafb9)\n",
    "- [matplotlib入門 - りんごがでている](https://bicycle1885.hatenablog.com/entry/2014/02/14/023734)"
   ]
  }
 ],
 "metadata": {
  "language_info": {
   "name": "python"
  },
  "orig_nbformat": 4
 },
 "nbformat": 4,
 "nbformat_minor": 2
}
